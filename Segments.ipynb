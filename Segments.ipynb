{
 "cells": [
  {
   "cell_type": "code",
   "execution_count": 28,
   "metadata": {},
   "outputs": [],
   "source": [
    "import numpy as np"
   ]
  },
  {
   "cell_type": "markdown",
   "metadata": {},
   "source": [
    "Координаты начала и конца отрезков"
   ]
  },
  {
   "cell_type": "code",
   "execution_count": 29,
   "metadata": {},
   "outputs": [],
   "source": [
    "x1_y1_x2_y2 = np.loadtxt(\"Coordinates.txt\")\n",
    "\n",
    "x1 = x1_y1_x2_y2[0]\n",
    "y1 = x1_y1_x2_y2[1]\n",
    "x2 = x1_y1_x2_y2[2]\n",
    "y2 = x1_y1_x2_y2[3]\n",
    "\n",
    "n = len(x1)"
   ]
  },
  {
   "cell_type": "markdown",
   "metadata": {},
   "source": [
    "Ax + By + C = 0"
   ]
  },
  {
   "cell_type": "code",
   "execution_count": 30,
   "metadata": {},
   "outputs": [],
   "source": [
    "A = np.zeros(n)\n",
    "B = np.zeros(n)\n",
    "C = np.zeros(n)"
   ]
  },
  {
   "cell_type": "code",
   "execution_count": 31,
   "metadata": {},
   "outputs": [],
   "source": [
    "for i in range(n):\n",
    "    A[i] = y1[i] - y2[i] \n",
    "    B[i] = x2[i] - x1[i] \n",
    "    C[i] = x1[i]*y2[i] - x2[i]*y1[i]"
   ]
  },
  {
   "cell_type": "code",
   "execution_count": 32,
   "metadata": {},
   "outputs": [],
   "source": [
    "k_matrix = np.zeros((n, n))\n",
    "for i in range(n):\n",
    "    j = i + 1\n",
    "    while j < n:\n",
    "        k_matrix[i][j] = A[i]-A[j]\n",
    "        j += 1"
   ]
  },
  {
   "cell_type": "code",
   "execution_count": 35,
   "metadata": {},
   "outputs": [
    {
     "name": "stdout",
     "output_type": "stream",
     "text": [
      "Пересечение есть\n"
     ]
    }
   ],
   "source": [
    "cnt_yes = 0\n",
    "cnt_not = 0\n",
    "for i in range(n):\n",
    "    if cnt_yes == 1:\n",
    "        print(\"Пересечение есть\")\n",
    "        break\n",
    "    else:\n",
    "        j = i+1\n",
    "        while j<n:\n",
    "            if k_matrix[i][j] != 0: \n",
    "                # k1 != k2\n",
    "                # Координата точки пересечения\n",
    "                x = (C[i+1]*B[i] - C[i]*B[i+1])/(A[i]*B[i+1] - A[i+1]*B[i])\n",
    "                if min(x1[i], x2[i]) <= x <= max(x1[i], x2[i]) and min(x1[i+1], x2[i+1]) <= x <= max(x1[i+1], x2[i+1]):\n",
    "                    cnt_yes = 1\n",
    "                    break\n",
    "                else:\n",
    "                    cnt_not += 1\n",
    "            else:\n",
    "                # k1 == k2\n",
    "                if B[i]*C[i+1] == B[i+1]*C[i]:\n",
    "                    # b1 == b2\n",
    "                    if x1[i] <= x1[i+1] <= x2[i] or x1[i] <= x2[i+1] <= x2[i]:\n",
    "                        # Наложение\n",
    "                        cnt_yes = 1\n",
    "                        break\n",
    "                    else:\n",
    "                        # Лежат на одной прямой, но не накладываются\n",
    "                        cnt_not += 1\n",
    "                else:\n",
    "                    # b1 != b2\n",
    "                    cnt_not += 1\n",
    "            if cnt_yes == 1:\n",
    "                break\n",
    "            j += 1\n",
    "if cnt_not == n*(n-1)/2:\n",
    "    print(\"Пересечений нет\")"
   ]
  },
  {
   "cell_type": "code",
   "execution_count": null,
   "metadata": {},
   "outputs": [],
   "source": []
  }
 ],
 "metadata": {
  "kernelspec": {
   "display_name": "Python 3",
   "language": "python",
   "name": "python3"
  },
  "language_info": {
   "codemirror_mode": {
    "name": "ipython",
    "version": 3
   },
   "file_extension": ".py",
   "mimetype": "text/x-python",
   "name": "python",
   "nbconvert_exporter": "python",
   "pygments_lexer": "ipython3",
   "version": "3.8.3"
  }
 },
 "nbformat": 4,
 "nbformat_minor": 4
}
