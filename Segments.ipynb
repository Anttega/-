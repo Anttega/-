{
 "cells": [
  {
   "cell_type": "code",
   "execution_count": 3,
   "metadata": {},
   "outputs": [],
   "source": [
    "import numpy as np"
   ]
  },
  {
   "cell_type": "code",
   "execution_count": 4,
   "metadata": {},
   "outputs": [],
   "source": [
    "n = np.random.rand()*100\n",
    "n = int(np.round_(n, decimals=0))"
   ]
  },
  {
   "cell_type": "markdown",
   "metadata": {},
   "source": [
    "Координаты начала и конца отрезков, округленные до сотых"
   ]
  },
  {
   "cell_type": "code",
   "execution_count": 5,
   "metadata": {},
   "outputs": [
    {
     "data": {
      "text/plain": [
       "array([35.3, 13.5, 26.5, 77.9, 82.3, 57.4, 80.3, 39.3, 14.7,  4.1, 76.8,\n",
       "       64. ,  8.3, 94.9, 51.4, 62.8, 93. , 59.9, 37.2, 83.3, 92.1, 72. ,\n",
       "       40.4, 25.9, 41. ,  8. , 94.8, 84.8,  7.3, 27.1,  1.7, 45.8, 55.2,\n",
       "       60.2, 28.9,  6.8, 35.5])"
      ]
     },
     "execution_count": 5,
     "metadata": {},
     "output_type": "execute_result"
    }
   ],
   "source": [
    "x1 = np.random.rand(n)*100\n",
    "y1 = np.random.rand(n)*100\n",
    "x2 = np.random.rand(n)*100\n",
    "y2 = np.random.rand(n)*100\n",
    "\n",
    "np.around(x1, decimals=1, out=x1)\n",
    "np.around(x2, decimals=1, out=x2)\n",
    "np.around(y1, decimals=1, out=y1)\n",
    "np.around(y2, decimals=1, out=y2)"
   ]
  },
  {
   "cell_type": "markdown",
   "metadata": {},
   "source": [
    "Ax + By + C = 0"
   ]
  },
  {
   "cell_type": "code",
   "execution_count": 6,
   "metadata": {},
   "outputs": [],
   "source": [
    "A = np.zeros(n)\n",
    "B = np.zeros(n)\n",
    "C = np.zeros(n)"
   ]
  },
  {
   "cell_type": "code",
   "execution_count": 7,
   "metadata": {},
   "outputs": [],
   "source": [
    "for i in range(n):\n",
    "    A[i] = y1[i] - y2[i] \n",
    "    B[i] = x2[i] - x1[i] \n",
    "    C[i] = x1[i]*y2[i] - x2[i]*y1[i]"
   ]
  },
  {
   "cell_type": "code",
   "execution_count": 8,
   "metadata": {},
   "outputs": [],
   "source": [
    "k_matrix = np.zeros((n, n))\n",
    "for i in range(n):\n",
    "    j = i + 1\n",
    "    while j < n:\n",
    "        k_matrix[i][j] = A[i]-A[j]\n",
    "        j += 1"
   ]
  },
  {
   "cell_type": "code",
   "execution_count": 9,
   "metadata": {},
   "outputs": [
    {
     "name": "stdout",
     "output_type": "stream",
     "text": [
      "Пересечение есть\n"
     ]
    }
   ],
   "source": [
    "cnt_yes = 0\n",
    "cnt_not = 0\n",
    "for i in range(n):\n",
    "    if cnt_yes == 1:\n",
    "        print(\"Пересечение есть\")\n",
    "        break\n",
    "    else:\n",
    "        j = i+1\n",
    "        while j<n:\n",
    "            if k_matrix[i][j] != 0: \n",
    "                # k1 != k2\n",
    "                # Координаты точки пересечения\n",
    "                y = (C[i+1]*A[i] - C[i]*A[i+1])/(B[i]*A[i+1] - B[i+1]*A[i])\n",
    "                x = (-C[i] - B[i]*y)/A[i]\n",
    "                if min(x1[i], x2[i]) <= x <= max(x1[i], x2[i]) and min(y1[i], y2[i]) <= y <= max(y1[i], y2[i]):\n",
    "                    cnt_yes = 1\n",
    "                    break\n",
    "                else:\n",
    "                    cnt_not += 1\n",
    "            else:\n",
    "                # k1 == k2\n",
    "                if B[i]*C[i+1] == B[i+1]*C[i]:\n",
    "                    # b1 == b2\n",
    "                    if x1[i] <= x1[i+1] <= x2[i] or x1[i] <= x2[i+1] <= x2[i]:\n",
    "                        # Наложение\n",
    "                        cnt_yes = 1\n",
    "                        break\n",
    "                    else:\n",
    "                        # Лежат на одной прямой, но не накладываются\n",
    "                        cnt_not += 1\n",
    "                else:\n",
    "                    # b1 != b2\n",
    "                    cnt_not += 1\n",
    "            if cnt_yes == 1:\n",
    "                break\n",
    "            j += 1\n",
    "if cnt_not == n*(n-1)/2:\n",
    "    print(\"Пересечений нет\")"
   ]
  },
  {
   "cell_type": "code",
   "execution_count": null,
   "metadata": {},
   "outputs": [],
   "source": []
  }
 ],
 "metadata": {
  "kernelspec": {
   "display_name": "Python 3",
   "language": "python",
   "name": "python3"
  },
  "language_info": {
   "codemirror_mode": {
    "name": "ipython",
    "version": 3
   },
   "file_extension": ".py",
   "mimetype": "text/x-python",
   "name": "python",
   "nbconvert_exporter": "python",
   "pygments_lexer": "ipython3",
   "version": "3.8.3"
  }
 },
 "nbformat": 4,
 "nbformat_minor": 4
}
