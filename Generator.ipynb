{
 "cells": [
  {
   "cell_type": "code",
   "execution_count": 44,
   "metadata": {},
   "outputs": [],
   "source": [
    "import numpy as np"
   ]
  },
  {
   "cell_type": "code",
   "execution_count": 75,
   "metadata": {},
   "outputs": [],
   "source": [
    "n = np.random.rand()*100\n",
    "n = int(np.round_(n, decimals=0))"
   ]
  },
  {
   "cell_type": "code",
   "execution_count": 76,
   "metadata": {},
   "outputs": [
    {
     "data": {
      "text/plain": [
       "array([[42.1, 76.3, 94. , 78.4, 22.8, 12.9, 78.9, 99. , 28.6,  4.1, 33.8,\n",
       "        21.1, 73.5, 51.9, 81.9, 47.4, 43.8, 96.3,  3.3, 99.3, 38.7, 92.7,\n",
       "        95.2, 37.3, 76.2, 96.7, 91.8, 94.6, 74.3,  9.7, 76.4],\n",
       "       [88.1, 48.4, 94.9, 76.8, 22. , 87. , 45.1, 19.7,  1.8, 32.9, 86.7,\n",
       "        53. , 63.7, 83.4, 30.4, 45.9, 15.2, 10.3, 94.1, 79.2,  3.2, 46.9,\n",
       "         2.7, 43.4, 52.9, 17.7, 15.6, 26. ,  9.2, 69.1, 26.7],\n",
       "       [50.5, 39.4, 13.5, 68.1, 17.5, 62.3, 92. , 32.5, 56.6, 80.6, 90.4,\n",
       "        27.3, 71.4, 48. , 53.4, 25.7, 10.1, 28.6, 64.1, 40.4, 79.2, 12.9,\n",
       "        71.2, 37.3, 10.3,  0.5,  2.1, 29.1, 93.8, 82.2, 17.8],\n",
       "       [95.5, 28.4, 44.8, 99.7, 35. , 96. , 33.7,  9.3,  1. , 21.9, 60.8,\n",
       "        54.5, 28.6, 64. , 11.4, 59.7, 11.2, 99.4, 22.8, 28.8, 86.5, 38.6,\n",
       "        73. , 27.2, 11.3, 67.9, 58.5, 77. , 70.5, 92.7, 74.6]])"
      ]
     },
     "execution_count": 76,
     "metadata": {},
     "output_type": "execute_result"
    }
   ],
   "source": [
    "x1_y1_x2_y2 = np.random.random_sample((4, n))*100\n",
    "np.around(x1_y1_x2_y2, decimals=1, out=x1_y1_x2_y2)"
   ]
  },
  {
   "cell_type": "code",
   "execution_count": 80,
   "metadata": {},
   "outputs": [],
   "source": [
    "np.savetxt('Coordinates.txt', \n",
    "           x1_y1_x2_y2, \n",
    "           fmt = '%1.2f', \n",
    "           delimiter = ' ')"
   ]
  },
  {
   "cell_type": "code",
   "execution_count": null,
   "metadata": {},
   "outputs": [],
   "source": []
  }
 ],
 "metadata": {
  "kernelspec": {
   "display_name": "Python 3",
   "language": "python",
   "name": "python3"
  },
  "language_info": {
   "codemirror_mode": {
    "name": "ipython",
    "version": 3
   },
   "file_extension": ".py",
   "mimetype": "text/x-python",
   "name": "python",
   "nbconvert_exporter": "python",
   "pygments_lexer": "ipython3",
   "version": "3.8.3"
  }
 },
 "nbformat": 4,
 "nbformat_minor": 4
}
