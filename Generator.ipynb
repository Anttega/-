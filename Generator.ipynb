{
 "cells": [
  {
   "cell_type": "code",
   "execution_count": 44,
   "metadata": {},
   "outputs": [],
   "source": [
    "import numpy as np"
   ]
  },
  {
   "cell_type": "code",
   "execution_count": 45,
   "metadata": {},
   "outputs": [],
   "source": [
    "n = np.random.rand()*100\n",
    "n = int(np.round_(n, decimals=0))"
   ]
  },
  {
   "cell_type": "code",
   "execution_count": 46,
   "metadata": {},
   "outputs": [
    {
     "data": {
      "text/plain": [
       "array([[0.3, 0.8, 0.4, 0.1, 0. , 0.2, 0.5, 0.3, 0.3, 0.3, 0.8, 0.7, 0.8,\n",
       "        0.3],\n",
       "       [0.5, 0.4, 0.2, 0. , 0.9, 0.6, 0.2, 0.2, 0.2, 0.4, 0. , 0.9, 0.8,\n",
       "        1. ],\n",
       "       [0.1, 0.1, 0.2, 0.2, 0.8, 0.6, 0.5, 0.3, 0.8, 0.7, 0.9, 0.4, 0.9,\n",
       "        0.8],\n",
       "       [0.5, 0.5, 1. , 0.4, 0.1, 0.6, 0.6, 0.9, 0.5, 1. , 0.4, 0.9, 0.8,\n",
       "        0.8]])"
      ]
     },
     "execution_count": 46,
     "metadata": {},
     "output_type": "execute_result"
    }
   ],
   "source": [
    "x1_y1_x2_y2 = np.random.random_sample((4, n))\n",
    "np.around(x1_y1_x2_y2, decimals=1, out=x1_y1_x2_y2)"
   ]
  },
  {
   "cell_type": "code",
   "execution_count": 56,
   "metadata": {},
   "outputs": [],
   "source": [
    "np.savetxt('Coordinates.txt', \n",
    "           x1_y1_x2_y2, \n",
    "           fmt = '%1.2f', \n",
    "           delimiter = ' | ', \n",
    "           newline = '\\n' + '-'*7*n + '\\n', \n",
    "           header='Координаты начала и конца n отрезков'+'\\n')"
   ]
  },
  {
   "cell_type": "code",
   "execution_count": null,
   "metadata": {},
   "outputs": [],
   "source": []
  }
 ],
 "metadata": {
  "kernelspec": {
   "display_name": "Python 3",
   "language": "python",
   "name": "python3"
  },
  "language_info": {
   "codemirror_mode": {
    "name": "ipython",
    "version": 3
   },
   "file_extension": ".py",
   "mimetype": "text/x-python",
   "name": "python",
   "nbconvert_exporter": "python",
   "pygments_lexer": "ipython3",
   "version": "3.8.3"
  }
 },
 "nbformat": 4,
 "nbformat_minor": 4
}
